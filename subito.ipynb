{
 "cells": [
  {
   "cell_type": "code",
   "execution_count": null,
   "metadata": {
    "collapsed": false
   },
   "outputs": [],
   "source": [
    "from lxml import html\n",
    "from lxml.cssselect import CSSSelector\n",
    "import requests\n",
    "from collections import namedtuple\n",
    "import time\n",
    "import random\n",
    "import logging\n",
    "from scrapers.scaper import *\n",
    "import json"
   ]
  },
  {
   "cell_type": "code",
   "execution_count": null,
   "metadata": {
    "collapsed": true
   },
   "outputs": [],
   "source": [
    "pages_cache = dict()\n",
    "# create formatter and add it to the handlers\n",
    "formatter = logging.Formatter('%(asctime)s - %(name)s - %(levelname)s - %(message)s')\n",
    "logger = logging.getLogger('subito')\n",
    "logger.setLevel(logging.DEBUG)\n",
    "\n",
    "ch = logging.StreamHandler()\n",
    "ch.setLevel(logging.INFO)\n",
    "ch.setFormatter(formatter)\n",
    "\n",
    "fh = logging.FileHandler('subito.log')\n",
    "fh.setLevel(logging.DEBUG)\n",
    "fh.setFormatter(formatter)\n",
    "\n",
    "logger.addHandler(ch)\n",
    "logger.addHandler(fh)"
   ]
  },
  {
   "cell_type": "code",
   "execution_count": null,
   "metadata": {
    "collapsed": true
   },
   "outputs": [],
   "source": [
    "base_url = 'http://www.subito.it/annunci-lombardia/vendita/appartamenti/milano/milano/?sqs=4&o={}'\n",
    "max_counter = 100"
   ]
  },
  {
   "cell_type": "code",
   "execution_count": null,
   "metadata": {
    "collapsed": true
   },
   "outputs": [],
   "source": [
    "def list_page_url_generator(base_url, max_counter):\n",
    "    counter = 1\n",
    "    while counter <= max_counter:\n",
    "        yield base_url.format(str(counter))\n",
    "        counter +=1"
   ]
  },
  {
   "cell_type": "code",
   "execution_count": null,
   "metadata": {
    "collapsed": true
   },
   "outputs": [],
   "source": [
    "def extract_record(elem):\n",
    "    \n",
    "    id_title_url = [(link.attrib['name'], link.attrib['title'], link.attrib['href'])\n",
    "                    for link in elem.xpath('div/div[2]/h2/a')]\n",
    "    \n",
    "    if len(id_title_url) == 0:\n",
    "        raise ValueError(\"advertising element\")\n",
    "\n",
    "    ids = [i for i,_,_ in id_title_url]\n",
    "    titles = [t for _,t,_ in id_title_url]\n",
    "    urls = [u for _,_,u in id_title_url]\n",
    "\n",
    "    prices = [e.text.strip() for e in elem.cssselect('span.item_price')]\n",
    "    categories = [e.text.strip() for e in elem.cssselect('span.item_category')]\n",
    "    specs = [e.text.strip() for e in elem.cssselect('span.item_specs')]\n",
    "    datetimes = [e.attrib['datetime'] for e in elem.cssselect('time')]\n",
    "    locations = [e.text_content().strip() for e in elem.cssselect('span.item_location')]\n",
    "    \n",
    "    \n",
    "    return {\n",
    "        'ids': ids,\n",
    "        'titles': titles,\n",
    "        'urls': urls,\n",
    "        'prices': prices,\n",
    "        'categories': categories,\n",
    "        'datetime': datetimes,\n",
    "        'location': locations\n",
    "    }"
   ]
  },
  {
   "cell_type": "code",
   "execution_count": null,
   "metadata": {
    "collapsed": true
   },
   "outputs": [],
   "source": [
    "def extract_records(url):\n",
    "    page_tree = parse(logger,url)\n",
    "    elements = page_tree.xpath('//article')\n",
    "    records = []\n",
    "    for elem in elements:\n",
    "        try:\n",
    "            records.append(extract_record(elem))\n",
    "        except ValueError as e:\n",
    "            logger.debug('removed record with content %s', elem.text_content())\n",
    "        \n",
    "    return records"
   ]
  },
  {
   "cell_type": "code",
   "execution_count": null,
   "metadata": {
    "collapsed": true
   },
   "outputs": [],
   "source": [
    "def extract_detail_page(url):\n",
    "    tree = parse(logger, url)\n",
    "#     titles = [t.text_content() for t in tree.cssselect('div.title')]\n",
    "    price = [e.text for e in tree.cssselect('span.price')]\n",
    "    \n",
    "    map_details = {}\n",
    "    for row in tree.xpath('//*[@id=\"ad_details\"]/div[1]/table/tr'):\n",
    "        children = row.getchildren()\n",
    "        map_details[children[0].text] = children[1].text.strip()\n",
    "    \n",
    "    logger.info('extracted details for page %s', url)\n",
    "    return {\n",
    "#         'titles': titles,\n",
    "        'details': map_details\n",
    "    }"
   ]
  },
  {
   "cell_type": "code",
   "execution_count": null,
   "metadata": {
    "collapsed": false
   },
   "outputs": [],
   "source": [
    "def extract():\n",
    "    list_pages_it = list_page_url_generator(base_url,max_counter)\n",
    "    results = []\n",
    "    for url in list_pages_it:\n",
    "        logger.info('extracing records from url %s', url)\n",
    "        records = extract_records(url)\n",
    "        if len(records) == 0:\n",
    "            break\n",
    "        logger.info('extracting details for %d records', len(records))\n",
    "        extended = []\n",
    "        for r in records:\n",
    "            for u in r['urls']:\n",
    "                union = dict(r,  **extract_detail_page(u))\n",
    "                extended.append(union)\n",
    "            \n",
    "        results.extend(extended)\n",
    "        break\n",
    "    return results"
   ]
  },
  {
   "cell_type": "code",
   "execution_count": null,
   "metadata": {
    "collapsed": false
   },
   "outputs": [],
   "source": [
    "results = extract()"
   ]
  },
  {
   "cell_type": "code",
   "execution_count": null,
   "metadata": {
    "collapsed": false
   },
   "outputs": [],
   "source": [
    "print(json.dumps(results[1]))"
   ]
  },
  {
   "cell_type": "code",
   "execution_count": null,
   "metadata": {
    "collapsed": false
   },
   "outputs": [],
   "source": [
    "len(results)"
   ]
  },
  {
   "cell_type": "markdown",
   "metadata": {},
   "source": [
    "## Test"
   ]
  },
  {
   "cell_type": "code",
   "execution_count": null,
   "metadata": {
    "collapsed": false
   },
   "outputs": [],
   "source": [
    "generator = list_page_url_generator(base_url,max_counter)"
   ]
  },
  {
   "cell_type": "code",
   "execution_count": null,
   "metadata": {
    "collapsed": true
   },
   "outputs": [],
   "source": [
    "url = next(generator)"
   ]
  },
  {
   "cell_type": "code",
   "execution_count": null,
   "metadata": {
    "collapsed": false
   },
   "outputs": [],
   "source": [
    "url"
   ]
  },
  {
   "cell_type": "code",
   "execution_count": null,
   "metadata": {
    "collapsed": false
   },
   "outputs": [],
   "source": [
    "records = extract_records(url)"
   ]
  },
  {
   "cell_type": "code",
   "execution_count": null,
   "metadata": {
    "collapsed": false
   },
   "outputs": [],
   "source": [
    "records"
   ]
  },
  {
   "cell_type": "code",
   "execution_count": null,
   "metadata": {
    "collapsed": false
   },
   "outputs": [],
   "source": [
    "page_tree = parse(logger,url)"
   ]
  },
  {
   "cell_type": "code",
   "execution_count": null,
   "metadata": {
    "collapsed": true
   },
   "outputs": [],
   "source": [
    "elements = page_tree.xpath('//article')"
   ]
  },
  {
   "cell_type": "code",
   "execution_count": null,
   "metadata": {
    "collapsed": true
   },
   "outputs": [],
   "source": [
    "elem = elements[0]"
   ]
  },
  {
   "cell_type": "code",
   "execution_count": null,
   "metadata": {
    "collapsed": true
   },
   "outputs": [],
   "source": [
    "a = elem.xpath('div/div[2]/h2/a')"
   ]
  },
  {
   "cell_type": "code",
   "execution_count": null,
   "metadata": {
    "collapsed": true
   },
   "outputs": [],
   "source": [
    "url = 'http://www.subito.it/appartamenti/mm-passante-ferroviario-bovisa-milano-164145080.htm'"
   ]
  },
  {
   "cell_type": "code",
   "execution_count": null,
   "metadata": {
    "collapsed": false
   },
   "outputs": [],
   "source": [
    "page = parse(logger, url)"
   ]
  },
  {
   "cell_type": "code",
   "execution_count": null,
   "metadata": {
    "collapsed": false
   },
   "outputs": [],
   "source": [
    "descriptions = [e.text for e in page.cssselect('div.description')]"
   ]
  },
  {
   "cell_type": "code",
   "execution_count": null,
   "metadata": {
    "collapsed": false
   },
   "outputs": [],
   "source": [
    "descriptions"
   ]
  },
  {
   "cell_type": "code",
   "execution_count": null,
   "metadata": {
    "collapsed": false
   },
   "outputs": [],
   "source": [
    "rows = tree.xpath('//*[@id=\"ad_details\"]/div[1]/table/tr')"
   ]
  },
  {
   "cell_type": "code",
   "execution_count": null,
   "metadata": {
    "collapsed": false
   },
   "outputs": [],
   "source": [
    "r = rows[0]"
   ]
  },
  {
   "cell_type": "code",
   "execution_count": null,
   "metadata": {
    "collapsed": false
   },
   "outputs": [],
   "source": [
    "r.getchildren()[0].text"
   ]
  },
  {
   "cell_type": "code",
   "execution_count": null,
   "metadata": {
    "collapsed": false
   },
   "outputs": [],
   "source": [
    "r.getchildren()[1].text"
   ]
  },
  {
   "cell_type": "code",
   "execution_count": null,
   "metadata": {
    "collapsed": true
   },
   "outputs": [],
   "source": []
  }
 ],
 "metadata": {
  "kernelspec": {
   "display_name": "Python 3",
   "language": "python",
   "name": "python3"
  },
  "language_info": {
   "codemirror_mode": {
    "name": "ipython",
    "version": 3
   },
   "file_extension": ".py",
   "mimetype": "text/x-python",
   "name": "python",
   "nbconvert_exporter": "python",
   "pygments_lexer": "ipython3",
   "version": "3.5.2"
  }
 },
 "nbformat": 4,
 "nbformat_minor": 0
}
