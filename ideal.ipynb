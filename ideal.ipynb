{
 "cells": [
  {
   "cell_type": "code",
   "execution_count": 19,
   "metadata": {
    "collapsed": false
   },
   "outputs": [],
   "source": [
    "from lxml import html\n",
    "import requests"
   ]
  },
  {
   "cell_type": "code",
   "execution_count": 20,
   "metadata": {
    "collapsed": true
   },
   "outputs": [],
   "source": [
    "def parse_url(url):\n",
    "    page = requests.get(url)\n",
    "    tree = html.fromstring(page.content)\n",
    "    tree.make_links_absolute(url)\n",
    "    return tree"
   ]
  },
  {
   "cell_type": "code",
   "execution_count": 21,
   "metadata": {
    "collapsed": true
   },
   "outputs": [],
   "source": [
    "url = 'http://www.idealista.it/vendita-case/milano-milano/'"
   ]
  },
  {
   "cell_type": "code",
   "execution_count": 22,
   "metadata": {
    "collapsed": true
   },
   "outputs": [],
   "source": [
    "tree = parse_url(url)"
   ]
  },
  {
   "cell_type": "code",
   "execution_count": 27,
   "metadata": {
    "collapsed": true
   },
   "outputs": [],
   "source": [
    "records = tree.xpath('//article')"
   ]
  },
  {
   "cell_type": "code",
   "execution_count": 29,
   "metadata": {
    "collapsed": true
   },
   "outputs": [],
   "source": [
    "titles = tree.xpath('//*[@id=\"main-content\"]/div[2]/article/div/div/div[2]/a')    "
   ]
  },
  {
   "cell_type": "code",
   "execution_count": 30,
   "metadata": {
    "collapsed": false
   },
   "outputs": [
    {
     "name": "stdout",
     "output_type": "stream",
     "text": [
      "Quadrilocale in val cannobina, 6, Baggio, Milano\n",
      "http://www.idealista.it/immobile/9354587/\n",
      "Appartamento in via fetonte, s.n.c, San Siro, Milano\n",
      "http://www.idealista.it/immobile/9074680/\n",
      "Quadrilocale in mar nero, 16, Bisceglie, Milano\n",
      "http://www.idealista.it/immobile/8614638/\n",
      "Villa in via archimede, 17, Indipendenza-Regina Giovanna, Milano\n",
      "http://www.idealista.it/immobile/9685686/\n",
      "Quadrilocale in via bari, 28, Naviglio Grande-Barona, Milano\n",
      "http://www.idealista.it/immobile/8690764/\n",
      "Appartamento su due piani in via villapizzone, 26, Varesina-Testori, Milano\n",
      "http://www.idealista.it/immobile/9390957/\n",
      "Appartamento in via giuditta sidoli, 22, Indipendenza-Regina Giovanna, Milano\n",
      "http://www.idealista.it/immobile/9052136/\n",
      "Monolocale in via caccialepori, 36, Morgantini, Milano\n",
      "http://www.idealista.it/immobile/9655529/\n",
      "Appartamento in via polidoro da caravaggio, 33, Varesina-Testori, Milano\n",
      "http://www.idealista.it/immobile/8402949/\n",
      "Appartamento in via polidoro da caravaggio, 33, Varesina-Testori, Milano\n",
      "http://www.idealista.it/immobile/8402932/\n",
      "Trilocale in val cannobina, 6, Baggio, Milano\n",
      "http://www.idealista.it/immobile/9528941/\n",
      "Quadrilocale in via dei gradenigo, 3, San Siro, Milano\n",
      "http://www.idealista.it/immobile/9019374/\n",
      "Trilocale in via don vercesi, 13, Baggio, Milano\n",
      "http://www.idealista.it/immobile/9422635/\n",
      "Appartamento in via carlo ravizza, 40, Fiera, Milano\n",
      "http://www.idealista.it/immobile/9520578/\n",
      "Quadrilocale in via piranesi, 69, Argonne-Corsica, Milano\n",
      "http://www.idealista.it/immobile/8815548/\n",
      "Appartamento in via sofocle, 6, Fiera, Milano\n",
      "http://www.idealista.it/immobile/8462870/\n",
      "Quadrilocale in procaccini, 66, Sempione, Milano\n",
      "http://www.idealista.it/immobile/9447018/\n",
      "Trilocale in via paolo pallia, Corvetto, Milano\n",
      "http://www.idealista.it/immobile/9741911/\n",
      "Appartamento su due piani in colletta, Martini-Cuoco, Milano\n",
      "http://www.idealista.it/immobile/9012379/\n",
      "Bilocale in largo promessi sposi, s.n.c, Chiesa Rossa, Milano\n",
      "http://www.idealista.it/immobile/9665135/\n",
      "Trilocale in via vallazze, 84, Teodosio-Porpora, Milano\n",
      "http://www.idealista.it/immobile/8899454/\n",
      "Bilocale in via plezzo, 68, Udine, Milano\n",
      "http://www.idealista.it/immobile/9026771/\n",
      "Quadrilocale in via luigi razza, 3, Centrale, Milano\n",
      "http://www.idealista.it/immobile/9945093/\n",
      "Attico in via edmondo de amicis, Zona Sant`Ambrogio-Università Cattolica, Milano\n",
      "http://www.idealista.it/immobile/9014771/\n",
      "Trilocale in via giuseppe ripamonti, Vigentino, Milano\n",
      "http://www.idealista.it/immobile/8472655/\n",
      "Trilocale in san mamete, Crescenzago, Milano\n",
      "http://www.idealista.it/immobile/9428753/\n",
      "Appartamento in piazza arnoldo mondadori, 3, Mercalli-Quadronno, Milano\n",
      "http://www.idealista.it/immobile/9243493/\n",
      "Attico in via eugenio torelli viollier, Greco-Villaggio dei Giornalisti, Milano\n",
      "http://www.idealista.it/immobile/9419886/\n",
      "Trilocale in Brenta, Milano\n",
      "http://www.idealista.it/immobile/392906/\n",
      "Monolocale in isimbardi, Chiesa Rossa, Milano\n",
      "http://www.idealista.it/immobile/9756545/\n"
     ]
    }
   ],
   "source": [
    "for t in titles:\n",
    "    print(t.text)\n",
    "    print(t.attrib['href'])"
   ]
  },
  {
   "cell_type": "code",
   "execution_count": null,
   "metadata": {
    "collapsed": true
   },
   "outputs": [],
   "source": []
  }
 ],
 "metadata": {
  "kernelspec": {
   "display_name": "Python 3",
   "language": "python",
   "name": "python3"
  },
  "language_info": {
   "codemirror_mode": {
    "name": "ipython",
    "version": 3
   },
   "file_extension": ".py",
   "mimetype": "text/x-python",
   "name": "python",
   "nbconvert_exporter": "python",
   "pygments_lexer": "ipython3",
   "version": "3.5.1"
  }
 },
 "nbformat": 4,
 "nbformat_minor": 0
}
