{
 "cells": [
  {
   "cell_type": "code",
   "execution_count": 30,
   "metadata": {
    "collapsed": false
   },
   "outputs": [],
   "source": [
    "from lxml import html\n",
    "from lxml.cssselect import CSSSelector\n",
    "import requests\n",
    "import time\n",
    "import random\n",
    "import logging\n",
    "from listings.scrapers.scraper_util import *\n",
    "import json"
   ]
  },
  {
   "cell_type": "code",
   "execution_count": 3,
   "metadata": {
    "collapsed": true
   },
   "outputs": [],
   "source": [
    "base_url = 'http://www.idealista.it/vendita-case/milano-milano/lista-{}.htm'\n",
    "max_counter = 628"
   ]
  },
  {
   "cell_type": "code",
   "execution_count": 4,
   "metadata": {
    "collapsed": true
   },
   "outputs": [],
   "source": [
    "def list_page_url_generator(base_url, max_counter):\n",
    "    counter = 1\n",
    "    while counter <= max_counter:\n",
    "        yield base_url.format(str(counter))\n",
    "        counter += 1"
   ]
  },
  {
   "cell_type": "code",
   "execution_count": 31,
   "metadata": {
    "collapsed": true
   },
   "outputs": [],
   "source": [
    "def extract_record(elem):\n",
    "    title_url = [(link.attrib['title'], link.attrib['href'])\n",
    "                 for link in elem.cssselect('a.item-link')]\n",
    "\n",
    "    if len(title_url) == 0:\n",
    "        raise ValueError('empty element')\n",
    "\n",
    "    titles = [t for t, _ in title_url]\n",
    "    urls = [u for _, u in title_url]\n",
    "    ids = [u.split('/')[-2] for u in urls]\n",
    "\n",
    "    prices = list()\n",
    "    categories = list()\n",
    "    phones = [p.text for p in elem.cssselect('span.icon-phone')]\n",
    "\n",
    "    return {\n",
    "        'src': 'idealista',\n",
    "        'id': flatten(ids),\n",
    "        'title': flatten(titles),\n",
    "        'url': flatten(urls),\n",
    "        'price': flatten(prices),\n",
    "        'category': flatten(categories),\n",
    "        'datetime': \"\",\n",
    "        'location': \"\",\n",
    "        'phone': flatten(phones)\n",
    "    }"
   ]
  },
  {
   "cell_type": "code",
   "execution_count": 32,
   "metadata": {
    "collapsed": false
   },
   "outputs": [],
   "source": [
    "def extract_records(url):\n",
    "    tree = parse(url)\n",
    "    elements = tree.xpath('//article')\n",
    "    records = list()\n",
    "    for elem in elements:\n",
    "        try:\n",
    "            records.append(extract_record(elem))\n",
    "        except ValueError as e:\n",
    "            logger.info('removed record with content %s', elem.text_content())\n",
    "\n",
    "    return records"
   ]
  },
  {
   "cell_type": "code",
   "execution_count": 33,
   "metadata": {
    "collapsed": true
   },
   "outputs": [],
   "source": [
    "def extract_from_detail_page(record):\n",
    "    url = record['url']\n",
    "    tree = parse(url)\n",
    "\n",
    "    map_details = dict()\n",
    "\n",
    "    price_down = [e.text_content() for e in tree.cssselect('span.icon-pricedown')]\n",
    "\n",
    "    map_details['price_down'] = flatten(price_down)\n",
    "\n",
    "    for kv in tree.xpath('//*[@id=\"details\"]/div'):\n",
    "        key = flatten([k.text_content() for k in kv.xpath('h2')]).strip()\n",
    "        value = [v.text_content().strip() for v in kv.xpath('ul/li')]\n",
    "        map_details[key] = value\n",
    "\n",
    "    logger.info('extracted details for the url %s', url)\n",
    "\n",
    "    record['details'] = map_details\n",
    "    return record"
   ]
  },
  {
   "cell_type": "markdown",
   "metadata": {},
   "source": [
    "## Example Usage"
   ]
  },
  {
   "cell_type": "code",
   "execution_count": 34,
   "metadata": {
    "collapsed": false
   },
   "outputs": [],
   "source": [
    "generator = list_page_url_generator(base_url,max_counter)"
   ]
  },
  {
   "cell_type": "code",
   "execution_count": 35,
   "metadata": {
    "collapsed": false
   },
   "outputs": [
    {
     "name": "stdout",
     "output_type": "stream",
     "text": [
      "http://www.idealista.it/vendita-case/milano-milano/lista-1.htm\n"
     ]
    }
   ],
   "source": [
    "url = next(generator)\n",
    "print(url)"
   ]
  },
  {
   "cell_type": "code",
   "execution_count": 37,
   "metadata": {
    "collapsed": false,
    "scrolled": true
   },
   "outputs": [
    {
     "name": "stderr",
     "output_type": "stream",
     "text": [
      "2016-07-24 11:07:58,929 - scraper - INFO - removed record with content   Pubblicità    \n"
     ]
    }
   ],
   "source": [
    "records = extract_records(url)"
   ]
  },
  {
   "cell_type": "code",
   "execution_count": 40,
   "metadata": {
    "collapsed": false
   },
   "outputs": [
    {
     "name": "stderr",
     "output_type": "stream",
     "text": [
      "2016-07-24 11:09:37,945 - scraper - INFO - extracted details for the url http://www.idealista.it/immobile/9074680/\n",
      "2016-07-24 11:09:43,291 - scraper - INFO - extracted details for the url http://www.idealista.it/immobile/9354587/\n",
      "2016-07-24 11:09:44,668 - scraper - INFO - extracted details for the url http://www.idealista.it/immobile/9986437/\n",
      "2016-07-24 11:09:46,064 - scraper - INFO - extracted details for the url http://www.idealista.it/immobile/9390957/\n",
      "2016-07-24 11:09:50,467 - scraper - INFO - extracted details for the url http://www.idealista.it/immobile/9428753/\n",
      "2016-07-24 11:09:54,917 - scraper - INFO - extracted details for the url http://www.idealista.it/immobile/8462870/\n",
      "2016-07-24 11:09:57,308 - scraper - INFO - extracted details for the url http://www.idealista.it/immobile/8815548/\n",
      "2016-07-24 11:10:02,668 - scraper - INFO - extracted details for the url http://www.idealista.it/immobile/8402932/\n",
      "2016-07-24 11:10:05,106 - scraper - INFO - extracted details for the url http://www.idealista.it/immobile/8402949/\n",
      "2016-07-24 11:10:09,484 - scraper - INFO - extracted details for the url http://www.idealista.it/immobile/8614638/\n",
      "2016-07-24 11:10:14,897 - scraper - INFO - extracted details for the url http://www.idealista.it/immobile/9777293/\n",
      "2016-07-24 11:10:18,272 - scraper - INFO - extracted details for the url http://www.idealista.it/immobile/9447018/\n",
      "2016-07-24 11:10:19,642 - scraper - INFO - extracted details for the url http://www.idealista.it/immobile/9520578/\n",
      "2016-07-24 11:10:26,541 - scraper - INFO - extracted details for the url http://www.idealista.it/immobile/9052136/\n",
      "2016-07-24 11:10:31,902 - scraper - INFO - extracted details for the url http://www.idealista.it/immobile/9741911/\n",
      "2016-07-24 11:10:34,343 - scraper - INFO - extracted details for the url http://www.idealista.it/immobile/9012379/\n",
      "2016-07-24 11:10:37,696 - scraper - INFO - extracted details for the url http://www.idealista.it/immobile/9665135/\n",
      "2016-07-24 11:10:40,072 - scraper - INFO - extracted details for the url http://www.idealista.it/immobile/8899454/\n",
      "2016-07-24 11:10:45,440 - scraper - INFO - extracted details for the url http://www.idealista.it/immobile/9026771/\n",
      "2016-07-24 11:10:48,818 - scraper - INFO - extracted details for the url http://www.idealista.it/immobile/8690764/\n",
      "2016-07-24 11:10:54,233 - scraper - INFO - extracted details for the url http://www.idealista.it/immobile/9014771/\n",
      "2016-07-24 11:10:58,616 - scraper - INFO - extracted details for the url http://www.idealista.it/immobile/9419886/\n",
      "2016-07-24 11:11:00,000 - scraper - INFO - extracted details for the url http://www.idealista.it/immobile/7568804/\n",
      "2016-07-24 11:11:05,366 - scraper - INFO - extracted details for the url http://www.idealista.it/immobile/9977186/\n",
      "2016-07-24 11:11:08,751 - scraper - INFO - extracted details for the url http://www.idealista.it/immobile/9967707/\n",
      "2016-07-24 11:11:11,152 - scraper - INFO - extracted details for the url http://www.idealista.it/immobile/9756545/\n",
      "2016-07-24 11:11:18,048 - scraper - INFO - extracted details for the url http://www.idealista.it/immobile/9620374/\n",
      "2016-07-24 11:11:21,389 - scraper - INFO - extracted details for the url http://www.idealista.it/immobile/8326638/\n",
      "2016-07-24 11:11:22,789 - scraper - INFO - extracted details for the url http://www.idealista.it/immobile/9575294/\n",
      "2016-07-24 11:11:24,201 - scraper - INFO - extracted details for the url http://www.idealista.it/immobile/9945093/\n"
     ]
    }
   ],
   "source": [
    "detailed = [extract_from_detail_page(r) for r in records]"
   ]
  },
  {
   "cell_type": "code",
   "execution_count": 38,
   "metadata": {
    "collapsed": false,
    "scrolled": true
   },
   "outputs": [
    {
     "name": "stdout",
     "output_type": "stream",
     "text": [
      "{'datetime': '', 'price': '', 'title': 'Appartamento in via fetonte, s.n.c, San Siro, Milano', 'location': '', 'id': '9074680', 'url': 'http://www.idealista.it/immobile/9074680/', 'category': '', 'src': 'idealista', 'phone': '0287368104'}\n",
      "\n",
      "{'datetime': '', 'price': '', 'title': 'Quadrilocale in val cannobina, 6, Baggio, Milano', 'location': '', 'id': '9354587', 'url': 'http://www.idealista.it/immobile/9354587/', 'category': '', 'src': 'idealista', 'phone': '0230464890'}\n",
      "\n",
      "{'datetime': '', 'price': '', 'title': 'Trilocale in via privata albona, 8, Baggio, Milano', 'location': '', 'id': '9986437', 'url': 'http://www.idealista.it/immobile/9986437/', 'category': '', 'src': 'idealista', 'phone': '0230464890'}\n",
      "\n",
      "{'datetime': '', 'price': '', 'title': 'Appartamento su due piani in via villapizzone, 26, Varesina-Testori, Milano', 'location': '', 'id': '9390957', 'url': 'http://www.idealista.it/immobile/9390957/', 'category': '', 'src': 'idealista', 'phone': '0230464914'}\n",
      "\n",
      "{'datetime': '', 'price': '', 'title': 'Trilocale in san mamete, Crescenzago, Milano', 'location': '', 'id': '9428753', 'url': 'http://www.idealista.it/immobile/9428753/', 'category': '', 'src': 'idealista', 'phone': '0287366372'}\n",
      "\n",
      "{'datetime': '', 'price': '', 'title': 'Appartamento in via sofocle, 6, Fiera, Milano', 'location': '', 'id': '8462870', 'url': 'http://www.idealista.it/immobile/8462870/', 'category': '', 'src': 'idealista', 'phone': '0230464914'}\n",
      "\n",
      "{'datetime': '', 'price': '', 'title': 'Quadrilocale in via piranesi, 69, Argonne-Corsica, Milano', 'location': '', 'id': '8815548', 'url': 'http://www.idealista.it/immobile/8815548/', 'category': '', 'src': 'idealista', 'phone': '0230464914'}\n",
      "\n",
      "{'datetime': '', 'price': '', 'title': 'Appartamento in via polidoro da caravaggio, 33, Varesina-Testori, Milano', 'location': '', 'id': '8402932', 'url': 'http://www.idealista.it/immobile/8402932/', 'category': '', 'src': 'idealista', 'phone': '0287366336'}\n",
      "\n",
      "{'datetime': '', 'price': '', 'title': 'Appartamento in via polidoro da caravaggio, 33, Varesina-Testori, Milano', 'location': '', 'id': '8402949', 'url': 'http://www.idealista.it/immobile/8402949/', 'category': '', 'src': 'idealista', 'phone': '0287366336'}\n",
      "\n",
      "{'datetime': '', 'price': '', 'title': 'Quadrilocale in mar nero, 16, Bisceglie, Milano', 'location': '', 'id': '8614638', 'url': 'http://www.idealista.it/immobile/8614638/', 'category': '', 'src': 'idealista', 'phone': '0230464890'}\n",
      "\n",
      "{'datetime': '', 'price': '', 'title': 'Trilocale in via monreale, 5, Morgantini, Milano', 'location': '', 'id': '9777293', 'url': 'http://www.idealista.it/immobile/9777293/', 'category': '', 'src': 'idealista', 'phone': '0287367000'}\n",
      "\n",
      "{'datetime': '', 'price': '', 'title': 'Quadrilocale in procaccini, 66, Sempione, Milano', 'location': '', 'id': '9447018', 'url': 'http://www.idealista.it/immobile/9447018/', 'category': '', 'src': 'idealista', 'phone': '0289745102'}\n",
      "\n",
      "{'datetime': '', 'price': '', 'title': 'Appartamento in via carlo ravizza, 40, Fiera, Milano', 'location': '', 'id': '9520578', 'url': 'http://www.idealista.it/immobile/9520578/', 'category': '', 'src': 'idealista', 'phone': '0230464914'}\n",
      "\n",
      "{'datetime': '', 'price': '', 'title': 'Appartamento in via giuditta sidoli, 22, Indipendenza-Regina Giovanna, Milano', 'location': '', 'id': '9052136', 'url': 'http://www.idealista.it/immobile/9052136/', 'category': '', 'src': 'idealista', 'phone': '0230464914'}\n",
      "\n",
      "{'datetime': '', 'price': '', 'title': 'Trilocale in via paolo pallia, Corvetto, Milano', 'location': '', 'id': '9741911', 'url': 'http://www.idealista.it/immobile/9741911/', 'category': '', 'src': 'idealista', 'phone': '0255210568'}\n",
      "\n",
      "{'datetime': '', 'price': '', 'title': 'Appartamento su due piani in colletta, Martini-Cuoco, Milano', 'location': '', 'id': '9012379', 'url': 'http://www.idealista.it/immobile/9012379/', 'category': '', 'src': 'idealista', 'phone': '0254050050'}\n",
      "\n",
      "{'datetime': '', 'price': '', 'title': 'Attico in largo promessi sposi, s.n.c, Chiesa Rossa, Milano', 'location': '', 'id': '9665135', 'url': 'http://www.idealista.it/immobile/9665135/', 'category': '', 'src': 'idealista', 'phone': '0287366311'}\n",
      "\n",
      "{'datetime': '', 'price': '', 'title': 'Trilocale in via vallazze, 84, Teodosio-Porpora, Milano', 'location': '', 'id': '8899454', 'url': 'http://www.idealista.it/immobile/8899454/', 'category': '', 'src': 'idealista', 'phone': '0270638434'}\n",
      "\n",
      "{'datetime': '', 'price': '', 'title': 'Bilocale in via plezzo, 68, Udine, Milano', 'location': '', 'id': '9026771', 'url': 'http://www.idealista.it/immobile/9026771/', 'category': '', 'src': 'idealista', 'phone': '0287366363'}\n",
      "\n",
      "{'datetime': '', 'price': '', 'title': 'Quadrilocale in via bari, 28, Naviglio Grande-Barona, Milano', 'location': '', 'id': '8690764', 'url': 'http://www.idealista.it/immobile/8690764/', 'category': '', 'src': 'idealista', 'phone': '0230464914'}\n",
      "\n",
      "{'datetime': '', 'price': '', 'title': 'Attico in via edmondo de amicis, Zona Sant`Ambrogio-Università Cattolica, Milano', 'location': '', 'id': '9014771', 'url': 'http://www.idealista.it/immobile/9014771/', 'category': '', 'src': 'idealista', 'phone': '0287368158'}\n",
      "\n",
      "{'datetime': '', 'price': '', 'title': 'Attico in via eugenio torelli viollier, Greco-Villaggio dei Giornalisti, Milano', 'location': '', 'id': '9419886', 'url': 'http://www.idealista.it/immobile/9419886/', 'category': '', 'src': 'idealista', 'phone': '0287367038'}\n",
      "\n",
      "{'datetime': '', 'price': '', 'title': 'Quadrilocale in via Giovanni Prati, 12, Portello-Tre Torri, Milano', 'location': '', 'id': '7568804', 'url': 'http://www.idealista.it/immobile/7568804/', 'category': '', 'src': 'idealista', 'phone': '0223161841'}\n",
      "\n",
      "{'datetime': '', 'price': '', 'title': 'Bilocale in via trebazio, 8, Portello-Tre Torri, Milano', 'location': '', 'id': '9977186', 'url': 'http://www.idealista.it/immobile/9977186/', 'category': '', 'src': 'idealista', 'phone': '0230464914'}\n",
      "\n",
      "{'datetime': '', 'price': '', 'title': 'Bilocale in via francesco ferrucci, 1, Portello-Tre Torri, Milano', 'location': '', 'id': '9967707', 'url': 'http://www.idealista.it/immobile/9967707/', 'category': '', 'src': 'idealista', 'phone': '0230464914'}\n",
      "\n",
      "{'datetime': '', 'price': '', 'title': 'Monolocale in isimbardi, Chiesa Rossa, Milano', 'location': '', 'id': '9756545', 'url': 'http://www.idealista.it/immobile/9756545/', 'category': '', 'src': 'idealista', 'phone': '0289731060'}\n",
      "\n",
      "{'datetime': '', 'price': '', 'title': 'Trilocale in via valpetrosa, Vetra-Missori, Milano', 'location': '', 'id': '9620374', 'url': 'http://www.idealista.it/immobile/9620374/', 'category': '', 'src': 'idealista', 'phone': '0287367402'}\n",
      "\n",
      "{'datetime': '', 'price': '', 'title': 'Trilocale in via campania, 21, Indipendenza-Regina Giovanna, Milano', 'location': '', 'id': '8326638', 'url': 'http://www.idealista.it/immobile/8326638/', 'category': '', 'src': 'idealista', 'phone': '0287366355'}\n",
      "\n",
      "{'datetime': '', 'price': '', 'title': 'Villetta a schiera in via spagnoletto, 15, Fiera, Milano', 'location': '', 'id': '9575294', 'url': 'http://www.idealista.it/immobile/9575294/', 'category': '', 'src': 'idealista', 'phone': '0230464914'}\n",
      "\n",
      "{'datetime': '', 'price': '', 'title': 'Quadrilocale in via Felice Casati, 42, Centrale, Milano', 'location': '', 'id': '9945093', 'url': 'http://www.idealista.it/immobile/9945093/', 'category': '', 'src': 'idealista', 'phone': '0287367815'}\n",
      "\n"
     ]
    }
   ],
   "source": [
    "for r in records:\n",
    "    print(r)\n",
    "    print()"
   ]
  },
  {
   "cell_type": "markdown",
   "metadata": {},
   "source": [
    "## For Testing Rercods"
   ]
  },
  {
   "cell_type": "code",
   "execution_count": 39,
   "metadata": {
    "collapsed": true
   },
   "outputs": [],
   "source": [
    "page_tree = parse(url)"
   ]
  },
  {
   "cell_type": "code",
   "execution_count": 23,
   "metadata": {
    "collapsed": false
   },
   "outputs": [],
   "source": [
    "articles = page_tree.xpath('//article')"
   ]
  },
  {
   "cell_type": "code",
   "execution_count": 22,
   "metadata": {
    "collapsed": true
   },
   "outputs": [],
   "source": [
    "a = articles[0]"
   ]
  },
  {
   "cell_type": "code",
   "execution_count": 25,
   "metadata": {
    "collapsed": false
   },
   "outputs": [
    {
     "name": "stdout",
     "output_type": "stream",
     "text": [
      "San Siro_ Prestigioso appartamento con terrazzi con vista immersa nel verde, per gli amanti dello sport e del relax.\n"
     ]
    }
   ],
   "source": [
    "highlight_description = a.cssselect('div.item-highlight-phrase')[0].text\n",
    "print(highlight_description)"
   ]
  },
  {
   "cell_type": "code",
   "execution_count": 26,
   "metadata": {
    "collapsed": false
   },
   "outputs": [
    {
     "name": "stdout",
     "output_type": "stream",
     "text": [
      "[('Appartamento in via fetonte, s.n.c, San Siro, Milano', 'http://www.idealista.it/immobile/9074680/')]\n"
     ]
    }
   ],
   "source": [
    "title_url = [(link.attrib['title'], link.attrib['href'])\n",
    "            for link in a.cssselect('a.item-link')]\n",
    "print(title_url)"
   ]
  },
  {
   "cell_type": "code",
   "execution_count": 27,
   "metadata": {
    "collapsed": false
   },
   "outputs": [
    {
     "name": "stdout",
     "output_type": "stream",
     "text": [
      "['5 locali', '270 m2', '3º piano con ascensore']\n"
     ]
    }
   ],
   "source": [
    "details = [d.text_content() for d in a.cssselect('span.item-detail')]\n",
    "print(details)"
   ]
  },
  {
   "cell_type": "code",
   "execution_count": 28,
   "metadata": {
    "collapsed": false
   },
   "outputs": [
    {
     "name": "stdout",
     "output_type": "stream",
     "text": [
      "['Grimaldi Agenzia Sempione Brera - Milano: Nell’ambitissimo quartiere San Siro, fronte stadio, zona molto tranquilla e immersa nel verde,...']\n"
     ]
    }
   ],
   "source": [
    "description = [e.text for e in a.cssselect('p.item-description')]\n",
    "print(description)"
   ]
  },
  {
   "cell_type": "code",
   "execution_count": 29,
   "metadata": {
    "collapsed": false
   },
   "outputs": [
    {
     "name": "stdout",
     "output_type": "stream",
     "text": [
      "['0287368104']\n"
     ]
    }
   ],
   "source": [
    "phones = [p.text for p in a.cssselect('span.icon-phone')]\n",
    "print(phones)"
   ]
  },
  {
   "cell_type": "markdown",
   "metadata": {},
   "source": [
    "## For Test Detail Record"
   ]
  },
  {
   "cell_type": "code",
   "execution_count": 14,
   "metadata": {
    "collapsed": true
   },
   "outputs": [],
   "source": [
    "tree = parse('http://www.idealista.it/immobile/9354587/')"
   ]
  },
  {
   "cell_type": "code",
   "execution_count": 15,
   "metadata": {
    "collapsed": false
   },
   "outputs": [
    {
     "name": "stdout",
     "output_type": "stream",
     "text": [
      "['Quadrilocale in vendita in val cannobina, 6, Baggio, Milano']\n"
     ]
    }
   ],
   "source": [
    "titles = [t.text_content() for t in tree.cssselect('h1.txt-bold')]\n",
    "print(titles)"
   ]
  },
  {
   "cell_type": "code",
   "execution_count": 16,
   "metadata": {
    "collapsed": false
   },
   "outputs": [
    {
     "name": "stdout",
     "output_type": "stream",
     "text": [
      "[' È sceso di 15.000 €  (5%) ']\n"
     ]
    }
   ],
   "source": [
    "price_down = [e.text_content() for e in tree.cssselect('span.icon-pricedown')]\n",
    "print(price_down)"
   ]
  },
  {
   "cell_type": "code",
   "execution_count": 17,
   "metadata": {
    "collapsed": true
   },
   "outputs": [],
   "source": [
    "description = [e.text_content() for e in tree.cssselect('div.adCommentsLanguage')]"
   ]
  },
  {
   "cell_type": "code",
   "execution_count": 18,
   "metadata": {
    "collapsed": false
   },
   "outputs": [
    {
     "data": {
      "text/plain": [
       "[' \"Ad. Via Cabella - In Ottimo e Tranquillo Contesto Medio Signorile in Clinker con Portineria, Campo Da Tennis ed Ampio Verde Condominiale ( La Serenissima ) - Mq. 140 - Nelle Vicinanze di Negozi e Scuole - Ampio Quattro Locali con Cucina Abitabile, Doppi Servizi Finestrati, Due Ripostigli, Balcone, Cantina e Poss. Box Auto - Disponibilità Immediata - € 270.000,00.(Ricerchiamo Immobili Residenziali in vendita in Milano e zone limitrofe anche in nuda proprietà per investimento o in locazione per la nostra clientela). ( Si Effettuano Permute ) - (Cercasi Personale per Ampliamento Organico - Inviare curriculum con foto a royal_casa@virgilio.it ).\" ']"
      ]
     },
     "execution_count": 18,
     "metadata": {},
     "output_type": "execute_result"
    }
   ],
   "source": [
    "description"
   ]
  },
  {
   "cell_type": "code",
   "execution_count": 38,
   "metadata": {
    "collapsed": false
   },
   "outputs": [
    {
     "name": "stdout",
     "output_type": "stream",
     "text": [
      "['Commento dell’inserzionista']\n",
      "['  Disponibile in Italiano  \"Ad. Via Cabella - In Ottimo e Tranquillo Contesto Medio Signorile in Clinker con Portineria, Campo Da Tennis ed Ampio Verde Condominiale ( La Serenissima ) - Mq. 140 - Nelle Vicinanze di Negozi e Scuole - Ampio Quattro Locali con Cucina Abitabile, Doppi Servizi Finestrati, Due Ripostigli, Balcone, Cantina e Poss. Box Auto - Disponibilità Immediata - € 270.000,00.(Ricerchiamo Immobili Residenziali in vendita in Milano e zone limitrofe anche in nuda proprietà per investimento o in locazione per la nostra clientela). ( Si Effettuano Permute ) - (Cercasi Personale per Ampliamento Organico - Inviare curriculum con foto a royal_casa@virgilio.it ).\"   ']\n",
      "['Prezzo']\n",
      "[' 270.000 euro -  Fai una controproposta  ', ' 1.929 euro/m2 ', ' Calcola mutuo ', ' ', ' 270 euro/mese di spese condominiali ', ' Avvisami se diminuisce il prezzo   Pubblicità    ']\n",
      "['Vuoi sapere se è economico o caro?']\n",
      "[' Compra una stima del prezzo ']\n",
      "['Caratteristiche specifiche']\n",
      "[' 140 m² commerciali ', ' 4 locali ', ' 2 bagni ', ' Terrazza ', ' Garage/posto auto con 15.000 euro in più ', ' Buono stato ', ' Cantina ']\n",
      "['Costruzione']\n",
      "[' Piano 3 ', ' Con ascensore ', ' Classe energetica:  (148,84 kWh/m² anno) ']\n",
      "['Dotazione']\n",
      "[' Con giardino ']\n"
     ]
    }
   ],
   "source": [
    "details = set()\n",
    "for kv in tree.xpath('//*[@id=\"details\"]/div'):\n",
    "    key = [k.text_content() for k in kv.xpath('h2')]\n",
    "    print(key)\n",
    "    value = [v.text_content() for v in kv.xpath('ul/li')]\n",
    "    print(value)"
   ]
  },
  {
   "cell_type": "code",
   "execution_count": 30,
   "metadata": {
    "collapsed": false
   },
   "outputs": [
    {
     "data": {
      "text/plain": [
       "[<Element h2 at 0x10987e7c8>]"
      ]
     },
     "execution_count": 30,
     "metadata": {},
     "output_type": "execute_result"
    }
   ],
   "source": [
    "kv.xpath('h2')"
   ]
  },
  {
   "cell_type": "code",
   "execution_count": 20,
   "metadata": {
    "collapsed": false
   },
   "outputs": [
    {
     "data": {
      "text/plain": [
       "{'  Disponibile in Italiano  \"Ad. Via Cabella - In Ottimo e Tranquillo Contesto Medio Signorile in Clinker con Portineria, Campo Da Tennis ed Ampio Verde Condominiale ( La Serenissima ) - Mq. 140 - Nelle Vicinanze di Negozi e Scuole - Ampio Quattro Locali con Cucina Abitabile, Doppi Servizi Finestrati, Due Ripostigli, Balcone, Cantina e Poss. Box Auto - Disponibilità Immediata - € 270.000,00.(Ricerchiamo Immobili Residenziali in vendita in Milano e zone limitrofe anche in nuda proprietà per investimento o in locazione per la nostra clientela). ( Si Effettuano Permute ) - (Cercasi Personale per Ampliamento Organico - Inviare curriculum con foto a royal_casa@virgilio.it ).\"   ',\n",
       " ' 1.929 euro/m2 ',\n",
       " ' 140 m² commerciali ',\n",
       " ' 2 bagni ',\n",
       " ' 270 euro/mese di spese condominiali ',\n",
       " ' 270.000 euro -  Fai una controproposta  ',\n",
       " ' 4 locali ',\n",
       " ' Avvisami se diminuisce il prezzo   Pubblicità    ',\n",
       " ' Buono stato ',\n",
       " ' Calcola mutuo ',\n",
       " ' Cantina ',\n",
       " ' Classe energetica:  (148,84 kWh/m² anno) ',\n",
       " ' Compra una stima del prezzo ',\n",
       " ' Con ascensore ',\n",
       " ' Con giardino ',\n",
       " ' Garage/posto auto con 15.000 euro in più ',\n",
       " ' Piano 3 ',\n",
       " ' Terrazza '}"
      ]
     },
     "execution_count": 20,
     "metadata": {},
     "output_type": "execute_result"
    }
   ],
   "source": [
    "details"
   ]
  },
  {
   "cell_type": "code",
   "execution_count": 43,
   "metadata": {
    "collapsed": true
   },
   "outputs": [],
   "source": [
    "mode = 'force'"
   ]
  },
  {
   "cell_type": "code",
   "execution_count": 44,
   "metadata": {
    "collapsed": false
   },
   "outputs": [
    {
     "data": {
      "text/plain": [
       "False"
      ]
     },
     "execution_count": 44,
     "metadata": {},
     "output_type": "execute_result"
    }
   ],
   "source": [
    "mode != 'force'"
   ]
  },
  {
   "cell_type": "code",
   "execution_count": null,
   "metadata": {
    "collapsed": true
   },
   "outputs": [],
   "source": []
  }
 ],
 "metadata": {
  "kernelspec": {
   "display_name": "Python 3",
   "language": "python",
   "name": "python3"
  },
  "language_info": {
   "codemirror_mode": {
    "name": "ipython",
    "version": 3
   },
   "file_extension": ".py",
   "mimetype": "text/x-python",
   "name": "python",
   "nbconvert_exporter": "python",
   "pygments_lexer": "ipython3",
   "version": "3.5.2"
  }
 },
 "nbformat": 4,
 "nbformat_minor": 0
}
